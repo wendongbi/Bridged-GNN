{
 "cells": [
  {
   "cell_type": "code",
   "execution_count": 5,
   "metadata": {},
   "outputs": [],
   "source": [
    "import torch\n",
    "import torch_geometric\n",
    "import os"
   ]
  },
  {
   "cell_type": "code",
   "execution_count": 6,
   "metadata": {},
   "outputs": [
    {
     "name": "stdout",
     "output_type": "stream",
     "text": [
      "dataset_twitter_pyg_unrelational.dat\n",
      "dataset_FB(Hamilton->Caltech)_pyg_relational_intra.dat\n",
      "dataset_viewer.ipynb\n",
      "dataset_sync_pyg_relational_intra&inter.dat\n",
      "dataset_FB(Howard->Simmons)_pyg_relational_intra.dat\n",
      "dataset_twitter_pyg_relational_intra&inter.dat\n",
      "dataset_sync_pyg_relational_intra.dat\n",
      "dataset_sync_pyg_unrelational.dat\n",
      "dataset_Office31(amazon->webcam)_pyg_unrelational.dat\n",
      "dataset_Office31(amazon->dslr)_pyg_unrelational.dat\n"
     ]
    }
   ],
   "source": [
    "file_list = os.listdir('./')\n",
    "for file_name in file_list:\n",
    "    print(file_name)"
   ]
  },
  {
   "cell_type": "code",
   "execution_count": 7,
   "metadata": {},
   "outputs": [
    {
     "data": {
      "text/plain": [
       "Data(x=[3083, 1685], edge_index=[2, 226100], y=[3083], source_mask=[3083], train_mask=[3083], val_mask=[3083], test_mask=[3083])"
      ]
     },
     "execution_count": 7,
     "metadata": {},
     "output_type": "execute_result"
    }
   ],
   "source": [
    "data_pyg = torch.load('dataset_FB(Hamilton->Caltech)_pyg_relational_intra.dat')\n",
    "data_pyg"
   ]
  },
  {
   "cell_type": "code",
   "execution_count": null,
   "metadata": {},
   "outputs": [],
   "source": []
  }
 ],
 "metadata": {
  "kernelspec": {
   "display_name": "py3.7",
   "language": "python",
   "name": "python3"
  },
  "language_info": {
   "codemirror_mode": {
    "name": "ipython",
    "version": 3
   },
   "file_extension": ".py",
   "mimetype": "text/x-python",
   "name": "python",
   "nbconvert_exporter": "python",
   "pygments_lexer": "ipython3",
   "version": "3.7.10"
  },
  "orig_nbformat": 4
 },
 "nbformat": 4,
 "nbformat_minor": 2
}
